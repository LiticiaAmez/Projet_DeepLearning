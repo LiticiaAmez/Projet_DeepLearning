{
 "cells": [
  {
   "cell_type": "code",
   "execution_count": 1,
   "id": "0239c4d1-fc36-4c63-b845-eea435913882",
   "metadata": {
    "tags": []
   },
   "outputs": [
    {
     "data": {
      "text/html": [
       "<div>\n",
       "<style scoped>\n",
       "    .dataframe tbody tr th:only-of-type {\n",
       "        vertical-align: middle;\n",
       "    }\n",
       "\n",
       "    .dataframe tbody tr th {\n",
       "        vertical-align: top;\n",
       "    }\n",
       "\n",
       "    .dataframe thead th {\n",
       "        text-align: right;\n",
       "    }\n",
       "</style>\n",
       "<table border=\"1\" class=\"dataframe\">\n",
       "  <thead>\n",
       "    <tr style=\"text-align: right;\">\n",
       "      <th></th>\n",
       "      <th>code_postal</th>\n",
       "      <th>tr002_type_batiment_id</th>\n",
       "      <th>annee_construction</th>\n",
       "      <th>surface_habitable</th>\n",
       "      <th>consommation_energie</th>\n",
       "      <th>nom_methode_dpe</th>\n",
       "      <th>tr001_modele_dpe_id</th>\n",
       "      <th>tr006_type_usage_id</th>\n",
       "      <th>description</th>\n",
       "      <th>tr004_type_energie_id</th>\n",
       "      <th>description.1</th>\n",
       "      <th>consommation_energie_finale</th>\n",
       "      <th>annee_DPE</th>\n",
       "      <th>coordonnees</th>\n",
       "    </tr>\n",
       "  </thead>\n",
       "  <tbody>\n",
       "    <tr>\n",
       "      <th>0</th>\n",
       "      <td>38190</td>\n",
       "      <td>Appartement</td>\n",
       "      <td>2014.0</td>\n",
       "      <td>61.21</td>\n",
       "      <td>50.81</td>\n",
       "      <td>FACTURE - DPE</td>\n",
       "      <td>11</td>\n",
       "      <td>1</td>\n",
       "      <td>Chauffage</td>\n",
       "      <td>3</td>\n",
       "      <td>Gaz</td>\n",
       "      <td>12677.00</td>\n",
       "      <td>2014</td>\n",
       "      <td>45.2307367976, 5.94776788691</td>\n",
       "    </tr>\n",
       "    <tr>\n",
       "      <th>1</th>\n",
       "      <td>39290</td>\n",
       "      <td>Maison</td>\n",
       "      <td>1950.0</td>\n",
       "      <td>125.00</td>\n",
       "      <td>340.86</td>\n",
       "      <td>3CL - DPE</td>\n",
       "      <td>1</td>\n",
       "      <td>1</td>\n",
       "      <td>Chauffage</td>\n",
       "      <td>4</td>\n",
       "      <td>Autres énergies</td>\n",
       "      <td>34940.75</td>\n",
       "      <td>2015</td>\n",
       "      <td>47.2159380749, 5.52780674218</td>\n",
       "    </tr>\n",
       "    <tr>\n",
       "      <th>2</th>\n",
       "      <td>91100</td>\n",
       "      <td>Appartement</td>\n",
       "      <td>1947.0</td>\n",
       "      <td>40.14</td>\n",
       "      <td>246.00</td>\n",
       "      <td>Méthode Facture</td>\n",
       "      <td>2</td>\n",
       "      <td>1</td>\n",
       "      <td>Chauffage</td>\n",
       "      <td>3</td>\n",
       "      <td>Gaz</td>\n",
       "      <td>11000.00</td>\n",
       "      <td>2014</td>\n",
       "      <td>48.598553411, 2.4642298382</td>\n",
       "    </tr>\n",
       "    <tr>\n",
       "      <th>3</th>\n",
       "      <td>82000</td>\n",
       "      <td>Maison</td>\n",
       "      <td>1998.0</td>\n",
       "      <td>120.00</td>\n",
       "      <td>32.39</td>\n",
       "      <td>3CL</td>\n",
       "      <td>1</td>\n",
       "      <td>1</td>\n",
       "      <td>Chauffage</td>\n",
       "      <td>2</td>\n",
       "      <td>Electricité</td>\n",
       "      <td>3249.65</td>\n",
       "      <td>2014</td>\n",
       "      <td>44.0224789981, 1.36379301211</td>\n",
       "    </tr>\n",
       "    <tr>\n",
       "      <th>4</th>\n",
       "      <td>92400</td>\n",
       "      <td>Appartement</td>\n",
       "      <td>1998.0</td>\n",
       "      <td>63.03</td>\n",
       "      <td>115.00</td>\n",
       "      <td>Méthode 3CL</td>\n",
       "      <td>1</td>\n",
       "      <td>1</td>\n",
       "      <td>Chauffage</td>\n",
       "      <td>4</td>\n",
       "      <td>Autres énergies</td>\n",
       "      <td>3596.44</td>\n",
       "      <td>2015</td>\n",
       "      <td>48.8983884255, 2.25522376319</td>\n",
       "    </tr>\n",
       "  </tbody>\n",
       "</table>\n",
       "</div>"
      ],
      "text/plain": [
       "  code_postal tr002_type_batiment_id  annee_construction  surface_habitable  \\\n",
       "0       38190            Appartement              2014.0              61.21   \n",
       "1       39290                 Maison              1950.0             125.00   \n",
       "2       91100            Appartement              1947.0              40.14   \n",
       "3       82000                 Maison              1998.0             120.00   \n",
       "4       92400            Appartement              1998.0              63.03   \n",
       "\n",
       "   consommation_energie  nom_methode_dpe  tr001_modele_dpe_id  \\\n",
       "0                 50.81    FACTURE - DPE                   11   \n",
       "1                340.86        3CL - DPE                    1   \n",
       "2                246.00  Méthode Facture                    2   \n",
       "3                 32.39              3CL                    1   \n",
       "4                115.00      Méthode 3CL                    1   \n",
       "\n",
       "   tr006_type_usage_id description  tr004_type_energie_id    description.1  \\\n",
       "0                    1   Chauffage                      3              Gaz   \n",
       "1                    1   Chauffage                      4  Autres énergies   \n",
       "2                    1   Chauffage                      3              Gaz   \n",
       "3                    1   Chauffage                      2      Electricité   \n",
       "4                    1   Chauffage                      4  Autres énergies   \n",
       "\n",
       "   consommation_energie_finale  annee_DPE                   coordonnees  \n",
       "0                     12677.00       2014  45.2307367976, 5.94776788691  \n",
       "1                     34940.75       2015  47.2159380749, 5.52780674218  \n",
       "2                     11000.00       2014    48.598553411, 2.4642298382  \n",
       "3                      3249.65       2014  44.0224789981, 1.36379301211  \n",
       "4                      3596.44       2015  48.8983884255, 2.25522376319  "
      ]
     },
     "execution_count": 1,
     "metadata": {},
     "output_type": "execute_result"
    }
   ],
   "source": [
    "import pandas as pd\n",
    "import matplotlib.pyplot as plt\n",
    "\n",
    "# Charger les données à partir du fichier CSV\n",
    "df = pd.read_csv(\"base_dpe.csv\", delimiter=\";\", nrows=None)\n",
    "\n",
    "# Afficher les premières lignes pour vérification\n",
    "df.head()\n"
   ]
  },
  {
   "cell_type": "code",
   "execution_count": 2,
   "id": "d3d6bcd3-2546-4840-9264-bb3438c0893d",
   "metadata": {
    "tags": []
   },
   "outputs": [
    {
     "data": {
      "text/plain": [
       "Index(['code_postal', 'tr002_type_batiment_id', 'annee_construction',\n",
       "       'surface_habitable', 'consommation_energie', 'nom_methode_dpe',\n",
       "       'tr001_modele_dpe_id', 'tr006_type_usage_id', 'description',\n",
       "       'tr004_type_energie_id', 'description.1', 'consommation_energie_finale',\n",
       "       'annee_DPE', 'coordonnees'],\n",
       "      dtype='object')"
      ]
     },
     "execution_count": 2,
     "metadata": {},
     "output_type": "execute_result"
    }
   ],
   "source": [
    "df.columns"
   ]
  },
  {
   "cell_type": "code",
   "execution_count": 14,
   "id": "d06b066f-0184-4cee-a101-7922a668295f",
   "metadata": {
    "tags": []
   },
   "outputs": [
    {
     "data": {
      "text/plain": [
       "(1633856, 14)"
      ]
     },
     "execution_count": 14,
     "metadata": {},
     "output_type": "execute_result"
    }
   ],
   "source": [
    "df.shape"
   ]
  },
  {
   "cell_type": "code",
   "execution_count": 15,
   "id": "c4d16811-06cc-4ce9-ae41-0c84bf21453d",
   "metadata": {
    "tags": []
   },
   "outputs": [],
   "source": [
    "# Liste des codes postaux à filtrer\n",
    "codes_postaux_filtres = ['75015', '75017', '75018', '75016', '75019', '75011', '75012', '92100', '75020',\n",
    "                         '75013', '75014', '92400', '92130', '92600', '93300', '93100', '91700', '94200',\n",
    "                         '93200', '91120', '75010', '93400', '94400', '93600', '92200', '75007', '92000',\n",
    "                         '93110', '95000', '95130', '91100', '75005', '92300', '92120']\n",
    "\n",
    "# Créer un premier DataFrame contenant uniquement les enregistrements avec les codes postaux spécifiés\n",
    "df_ileDeFrance = df[df['code_postal'].isin(codes_postaux_filtres)]\n",
    "\n",
    "# Créer un deuxième DataFrame contenant les enregistrements restants qui n'ont pas ces codes postaux\n",
    "df_HorsIleDeFrance = df[~df['code_postal'].isin(codes_postaux_filtres)]\n"
   ]
  },
  {
   "cell_type": "code",
   "execution_count": 16,
   "id": "9e9404c2-f61f-4ec9-bc68-bd8f2898f41f",
   "metadata": {
    "tags": []
   },
   "outputs": [],
   "source": [
    "# Filtrer les données pour ne conserver que les lignes où l'année de construction est supérieure à 2000\n",
    "df_ileDeFrance = df_ileDeFrance[df_ileDeFrance['annee_construction'] > 2000]\n",
    "df_HorsIleDeFrance = df_HorsIleDeFrance[df_HorsIleDeFrance['annee_construction'] >= 2013]\n"
   ]
  },
  {
   "cell_type": "code",
   "execution_count": 17,
   "id": "63f009e6-39df-4a25-9843-f3570a05ff87",
   "metadata": {
    "tags": []
   },
   "outputs": [
    {
     "data": {
      "text/html": [
       "<div>\n",
       "<style scoped>\n",
       "    .dataframe tbody tr th:only-of-type {\n",
       "        vertical-align: middle;\n",
       "    }\n",
       "\n",
       "    .dataframe tbody tr th {\n",
       "        vertical-align: top;\n",
       "    }\n",
       "\n",
       "    .dataframe thead th {\n",
       "        text-align: right;\n",
       "    }\n",
       "</style>\n",
       "<table border=\"1\" class=\"dataframe\">\n",
       "  <thead>\n",
       "    <tr style=\"text-align: right;\">\n",
       "      <th></th>\n",
       "      <th>code_postal</th>\n",
       "      <th>tr002_type_batiment_id</th>\n",
       "      <th>annee_construction</th>\n",
       "      <th>surface_habitable</th>\n",
       "      <th>consommation_energie</th>\n",
       "      <th>nom_methode_dpe</th>\n",
       "      <th>tr001_modele_dpe_id</th>\n",
       "      <th>tr006_type_usage_id</th>\n",
       "      <th>description</th>\n",
       "      <th>tr004_type_energie_id</th>\n",
       "      <th>description.1</th>\n",
       "      <th>consommation_energie_finale</th>\n",
       "      <th>annee_DPE</th>\n",
       "      <th>coordonnees</th>\n",
       "    </tr>\n",
       "  </thead>\n",
       "  <tbody>\n",
       "    <tr>\n",
       "      <th>32</th>\n",
       "      <td>91700</td>\n",
       "      <td>Appartement</td>\n",
       "      <td>2003.0</td>\n",
       "      <td>23.00</td>\n",
       "      <td>418.99</td>\n",
       "      <td>3CL - DPE</td>\n",
       "      <td>1</td>\n",
       "      <td>1</td>\n",
       "      <td>Chauffage</td>\n",
       "      <td>2</td>\n",
       "      <td>Electricité</td>\n",
       "      <td>2441.26</td>\n",
       "      <td>2014</td>\n",
       "      <td>48.6398858055, 2.34146847544</td>\n",
       "    </tr>\n",
       "    <tr>\n",
       "      <th>116</th>\n",
       "      <td>92000</td>\n",
       "      <td>Appartement</td>\n",
       "      <td>2007.0</td>\n",
       "      <td>18.16</td>\n",
       "      <td>393.29</td>\n",
       "      <td>3CL - DPE</td>\n",
       "      <td>1</td>\n",
       "      <td>1</td>\n",
       "      <td>Chauffage</td>\n",
       "      <td>2</td>\n",
       "      <td>Electricité</td>\n",
       "      <td>1677.39</td>\n",
       "      <td>2013</td>\n",
       "      <td>48.8962161446, 2.2068493546</td>\n",
       "    </tr>\n",
       "    <tr>\n",
       "      <th>262</th>\n",
       "      <td>92120</td>\n",
       "      <td>Appartement</td>\n",
       "      <td>2015.0</td>\n",
       "      <td>77.65</td>\n",
       "      <td>68.88</td>\n",
       "      <td>FACTURE - DPE</td>\n",
       "      <td>11</td>\n",
       "      <td>1</td>\n",
       "      <td>Chauffage</td>\n",
       "      <td>3</td>\n",
       "      <td>Gaz</td>\n",
       "      <td>42502.00</td>\n",
       "      <td>2015</td>\n",
       "      <td>48.8152695492, 2.31739229511</td>\n",
       "    </tr>\n",
       "    <tr>\n",
       "      <th>351</th>\n",
       "      <td>95130</td>\n",
       "      <td>Appartement</td>\n",
       "      <td>2014.0</td>\n",
       "      <td>59.59</td>\n",
       "      <td>58.89</td>\n",
       "      <td>TH_C_E</td>\n",
       "      <td>11</td>\n",
       "      <td>1</td>\n",
       "      <td>Chauffage</td>\n",
       "      <td>3</td>\n",
       "      <td>Gaz</td>\n",
       "      <td>1641.57</td>\n",
       "      <td>2014</td>\n",
       "      <td>48.9926867479, 2.22747200568</td>\n",
       "    </tr>\n",
       "    <tr>\n",
       "      <th>406</th>\n",
       "      <td>91120</td>\n",
       "      <td>Appartement</td>\n",
       "      <td>2015.0</td>\n",
       "      <td>57.30</td>\n",
       "      <td>69.30</td>\n",
       "      <td>TH_BCE</td>\n",
       "      <td>11</td>\n",
       "      <td>1</td>\n",
       "      <td>Chauffage</td>\n",
       "      <td>4</td>\n",
       "      <td>Autres énergies</td>\n",
       "      <td>2198.28</td>\n",
       "      <td>2016</td>\n",
       "      <td>48.714670201, 2.22882062662</td>\n",
       "    </tr>\n",
       "  </tbody>\n",
       "</table>\n",
       "</div>"
      ],
      "text/plain": [
       "    code_postal tr002_type_batiment_id  annee_construction  surface_habitable  \\\n",
       "32        91700            Appartement              2003.0              23.00   \n",
       "116       92000            Appartement              2007.0              18.16   \n",
       "262       92120            Appartement              2015.0              77.65   \n",
       "351       95130            Appartement              2014.0              59.59   \n",
       "406       91120            Appartement              2015.0              57.30   \n",
       "\n",
       "     consommation_energie nom_methode_dpe  tr001_modele_dpe_id  \\\n",
       "32                 418.99       3CL - DPE                    1   \n",
       "116                393.29       3CL - DPE                    1   \n",
       "262                 68.88   FACTURE - DPE                   11   \n",
       "351                 58.89          TH_C_E                   11   \n",
       "406                 69.30          TH_BCE                   11   \n",
       "\n",
       "     tr006_type_usage_id description  tr004_type_energie_id    description.1  \\\n",
       "32                     1   Chauffage                      2      Electricité   \n",
       "116                    1   Chauffage                      2      Electricité   \n",
       "262                    1   Chauffage                      3              Gaz   \n",
       "351                    1   Chauffage                      3              Gaz   \n",
       "406                    1   Chauffage                      4  Autres énergies   \n",
       "\n",
       "     consommation_energie_finale  annee_DPE                   coordonnees  \n",
       "32                       2441.26       2014  48.6398858055, 2.34146847544  \n",
       "116                      1677.39       2013   48.8962161446, 2.2068493546  \n",
       "262                     42502.00       2015  48.8152695492, 2.31739229511  \n",
       "351                      1641.57       2014  48.9926867479, 2.22747200568  \n",
       "406                      2198.28       2016   48.714670201, 2.22882062662  "
      ]
     },
     "execution_count": 17,
     "metadata": {},
     "output_type": "execute_result"
    }
   ],
   "source": [
    "df_ileDeFrance.head()"
   ]
  },
  {
   "cell_type": "code",
   "execution_count": 18,
   "id": "e8191039-edf0-4ab3-83cb-db46ea0ece43",
   "metadata": {
    "tags": []
   },
   "outputs": [
    {
     "data": {
      "text/plain": [
       "(17255, 14)"
      ]
     },
     "execution_count": 18,
     "metadata": {},
     "output_type": "execute_result"
    }
   ],
   "source": [
    "df_ileDeFrance.shape"
   ]
  },
  {
   "cell_type": "code",
   "execution_count": 8,
   "id": "73aed594-e53b-4cb4-a57f-354bfcb56898",
   "metadata": {
    "tags": []
   },
   "outputs": [
    {
     "data": {
      "text/plain": [
       "(248655, 14)"
      ]
     },
     "execution_count": 8,
     "metadata": {},
     "output_type": "execute_result"
    }
   ],
   "source": [
    "df_HorsIleDeFrance.shape"
   ]
  },
  {
   "cell_type": "code",
   "execution_count": 26,
   "id": "b470ab22-f6fb-449e-8e9b-3fd40f7a6e00",
   "metadata": {
    "tags": []
   },
   "outputs": [],
   "source": [
    "import pgeocode\n",
    "\n",
    "# Créer un objet de recherche de code postal pour la France\n",
    "nom_ville_france = pgeocode.Nominatim('fr')\n",
    "\n",
    "# Fonction pour obtenir le nom de la ville à partir du code postal\n",
    "def obtenir_ville(code_postal):\n",
    "    ville = nom_ville_france.query_postal_code(str(code_postal))\n",
    "    return ville['place_name']\n",
    "\n",
    "# Ajouter une colonne \"ville\" au DataFrame filtré en utilisant la fonction obtenir_ville\n",
    "df_HorsIleDeFrance['ville'] = df_HorsIleDeFrance['code_postal'].apply(obtenir_ville)\n",
    "\n",
    "# Afficher les premières lignes du DataFrame filtré avec la nouvelle colonne \"ville\"\n",
    "df_HorsIleDeFrance.head()\n",
    "\n",
    "# Enregistrer le DataFrame dans un fichier CSV\n",
    "df_HorsIleDeFrance.to_csv('df_HorsIleDeFrance_final.csv', index=False)"
   ]
  },
  {
   "cell_type": "code",
   "execution_count": 19,
   "id": "82a4261a-e617-4aa6-9f0c-e84520965b11",
   "metadata": {
    "tags": []
   },
   "outputs": [
    {
     "name": "stdout",
     "output_type": "stream",
     "text": [
      "    code_postal tr002_type_batiment_id  annee_construction  surface_habitable  \\\n",
      "32        91700            Appartement              2003.0              23.00   \n",
      "116       92000            Appartement              2007.0              18.16   \n",
      "262       92120            Appartement              2015.0              77.65   \n",
      "351       95130            Appartement              2014.0              59.59   \n",
      "406       91120            Appartement              2015.0              57.30   \n",
      "\n",
      "     consommation_energie nom_methode_dpe  tr001_modele_dpe_id  \\\n",
      "32                 418.99       3CL - DPE                    1   \n",
      "116                393.29       3CL - DPE                    1   \n",
      "262                 68.88   FACTURE - DPE                   11   \n",
      "351                 58.89          TH_C_E                   11   \n",
      "406                 69.30          TH_BCE                   11   \n",
      "\n",
      "     tr006_type_usage_id description  tr004_type_energie_id    description.1  \\\n",
      "32                     1   Chauffage                      2      Electricité   \n",
      "116                    1   Chauffage                      2      Electricité   \n",
      "262                    1   Chauffage                      3              Gaz   \n",
      "351                    1   Chauffage                      3              Gaz   \n",
      "406                    1   Chauffage                      4  Autres énergies   \n",
      "\n",
      "     consommation_energie_finale  annee_DPE                   coordonnees  \\\n",
      "32                       2441.26       2014  48.6398858055, 2.34146847544   \n",
      "116                      1677.39       2013   48.8962161446, 2.2068493546   \n",
      "262                     42502.00       2015  48.8152695492, 2.31739229511   \n",
      "351                      1641.57       2014  48.9926867479, 2.22747200568   \n",
      "406                      2198.28       2016   48.714670201, 2.22882062662   \n",
      "\n",
      "                                                 ville  \n",
      "32   Villiers-sur-Orge, Sainte-Geneviève-des-Bois, ...  \n",
      "116                                           Nanterre  \n",
      "262                                          Montrouge  \n",
      "351                  Franconville, Le Plessis-Bouchard  \n",
      "406                                          Palaiseau  \n"
     ]
    }
   ],
   "source": [
    "import pandas as pd\n",
    "import pgeocode\n",
    "\n",
    "# Créer un objet de recherche de code postal pour la France\n",
    "nom_ville_france = pgeocode.Nominatim('fr')\n",
    "\n",
    "# Fonction pour obtenir le nom de la ville à partir du code postal\n",
    "def obtenir_ville(code_postal):\n",
    "    ville = nom_ville_france.query_postal_code(str(code_postal))\n",
    "    return ville['place_name']\n",
    "\n",
    "# Ajouter une colonne \"ville\" au DataFrame filtré en utilisant la fonction obtenir_ville\n",
    "df_ileDeFrance['ville'] = df_ileDeFrance['code_postal'].apply(obtenir_ville)\n",
    "\n",
    "# Afficher les premières lignes du DataFrame filtré avec la nouvelle colonne \"ville\"\n",
    "print(df_ileDeFrance.head())\n",
    "\n",
    "# Enregistrer le DataFrame dans un fichier CSV\n",
    "df_ileDeFrance.to_csv('df_ileDeFrance_final.csv', index=False)\n"
   ]
  },
  {
   "cell_type": "code",
   "execution_count": 4,
   "id": "9dbf0f4a-752b-431d-86c5-3d50b3c4c9e7",
   "metadata": {
    "tags": []
   },
   "outputs": [],
   "source": [
    "#Suite apres divsion du dataframe"
   ]
  },
  {
   "cell_type": "code",
   "execution_count": 23,
   "id": "6f006ed0-a461-41f9-a20c-f3886dfc1446",
   "metadata": {
    "tags": []
   },
   "outputs": [
    {
     "data": {
      "text/html": [
       "<div>\n",
       "<style scoped>\n",
       "    .dataframe tbody tr th:only-of-type {\n",
       "        vertical-align: middle;\n",
       "    }\n",
       "\n",
       "    .dataframe tbody tr th {\n",
       "        vertical-align: top;\n",
       "    }\n",
       "\n",
       "    .dataframe thead th {\n",
       "        text-align: right;\n",
       "    }\n",
       "</style>\n",
       "<table border=\"1\" class=\"dataframe\">\n",
       "  <thead>\n",
       "    <tr style=\"text-align: right;\">\n",
       "      <th></th>\n",
       "      <th>code_postal</th>\n",
       "      <th>tr002_type_batiment_id</th>\n",
       "      <th>annee_construction</th>\n",
       "      <th>surface_habitable</th>\n",
       "      <th>consommation_energie</th>\n",
       "      <th>nom_methode_dpe</th>\n",
       "      <th>tr001_modele_dpe_id</th>\n",
       "      <th>tr006_type_usage_id</th>\n",
       "      <th>description</th>\n",
       "      <th>tr004_type_energie_id</th>\n",
       "      <th>description.1</th>\n",
       "      <th>consommation_energie_finale</th>\n",
       "      <th>annee_DPE</th>\n",
       "      <th>coordonnees</th>\n",
       "      <th>ville</th>\n",
       "    </tr>\n",
       "  </thead>\n",
       "  <tbody>\n",
       "    <tr>\n",
       "      <th>0</th>\n",
       "      <td>91700</td>\n",
       "      <td>Appartement</td>\n",
       "      <td>2003.0</td>\n",
       "      <td>23.00</td>\n",
       "      <td>418.99</td>\n",
       "      <td>3CL - DPE</td>\n",
       "      <td>1</td>\n",
       "      <td>1</td>\n",
       "      <td>Chauffage</td>\n",
       "      <td>2</td>\n",
       "      <td>Electricité</td>\n",
       "      <td>2441.26</td>\n",
       "      <td>2014</td>\n",
       "      <td>48.6398858055, 2.34146847544</td>\n",
       "      <td>Villiers-sur-Orge, Sainte-Geneviève-des-Bois, ...</td>\n",
       "    </tr>\n",
       "    <tr>\n",
       "      <th>1</th>\n",
       "      <td>92000</td>\n",
       "      <td>Appartement</td>\n",
       "      <td>2007.0</td>\n",
       "      <td>18.16</td>\n",
       "      <td>393.29</td>\n",
       "      <td>3CL - DPE</td>\n",
       "      <td>1</td>\n",
       "      <td>1</td>\n",
       "      <td>Chauffage</td>\n",
       "      <td>2</td>\n",
       "      <td>Electricité</td>\n",
       "      <td>1677.39</td>\n",
       "      <td>2013</td>\n",
       "      <td>48.8962161446, 2.2068493546</td>\n",
       "      <td>Nanterre</td>\n",
       "    </tr>\n",
       "    <tr>\n",
       "      <th>2</th>\n",
       "      <td>92120</td>\n",
       "      <td>Appartement</td>\n",
       "      <td>2015.0</td>\n",
       "      <td>77.65</td>\n",
       "      <td>68.88</td>\n",
       "      <td>FACTURE - DPE</td>\n",
       "      <td>11</td>\n",
       "      <td>1</td>\n",
       "      <td>Chauffage</td>\n",
       "      <td>3</td>\n",
       "      <td>Gaz</td>\n",
       "      <td>42502.00</td>\n",
       "      <td>2015</td>\n",
       "      <td>48.8152695492, 2.31739229511</td>\n",
       "      <td>Montrouge</td>\n",
       "    </tr>\n",
       "    <tr>\n",
       "      <th>3</th>\n",
       "      <td>95130</td>\n",
       "      <td>Appartement</td>\n",
       "      <td>2014.0</td>\n",
       "      <td>59.59</td>\n",
       "      <td>58.89</td>\n",
       "      <td>TH_C_E</td>\n",
       "      <td>11</td>\n",
       "      <td>1</td>\n",
       "      <td>Chauffage</td>\n",
       "      <td>3</td>\n",
       "      <td>Gaz</td>\n",
       "      <td>1641.57</td>\n",
       "      <td>2014</td>\n",
       "      <td>48.9926867479, 2.22747200568</td>\n",
       "      <td>Franconville, Le Plessis-Bouchard</td>\n",
       "    </tr>\n",
       "    <tr>\n",
       "      <th>4</th>\n",
       "      <td>91120</td>\n",
       "      <td>Appartement</td>\n",
       "      <td>2015.0</td>\n",
       "      <td>57.30</td>\n",
       "      <td>69.30</td>\n",
       "      <td>TH_BCE</td>\n",
       "      <td>11</td>\n",
       "      <td>1</td>\n",
       "      <td>Chauffage</td>\n",
       "      <td>4</td>\n",
       "      <td>Autres énergies</td>\n",
       "      <td>2198.28</td>\n",
       "      <td>2016</td>\n",
       "      <td>48.714670201, 2.22882062662</td>\n",
       "      <td>Palaiseau</td>\n",
       "    </tr>\n",
       "  </tbody>\n",
       "</table>\n",
       "</div>"
      ],
      "text/plain": [
       "   code_postal tr002_type_batiment_id  annee_construction  surface_habitable  \\\n",
       "0        91700            Appartement              2003.0              23.00   \n",
       "1        92000            Appartement              2007.0              18.16   \n",
       "2        92120            Appartement              2015.0              77.65   \n",
       "3        95130            Appartement              2014.0              59.59   \n",
       "4        91120            Appartement              2015.0              57.30   \n",
       "\n",
       "   consommation_energie nom_methode_dpe  tr001_modele_dpe_id  \\\n",
       "0                418.99       3CL - DPE                    1   \n",
       "1                393.29       3CL - DPE                    1   \n",
       "2                 68.88   FACTURE - DPE                   11   \n",
       "3                 58.89          TH_C_E                   11   \n",
       "4                 69.30          TH_BCE                   11   \n",
       "\n",
       "   tr006_type_usage_id description  tr004_type_energie_id    description.1  \\\n",
       "0                    1   Chauffage                      2      Electricité   \n",
       "1                    1   Chauffage                      2      Electricité   \n",
       "2                    1   Chauffage                      3              Gaz   \n",
       "3                    1   Chauffage                      3              Gaz   \n",
       "4                    1   Chauffage                      4  Autres énergies   \n",
       "\n",
       "   consommation_energie_finale  annee_DPE                   coordonnees  \\\n",
       "0                      2441.26       2014  48.6398858055, 2.34146847544   \n",
       "1                      1677.39       2013   48.8962161446, 2.2068493546   \n",
       "2                     42502.00       2015  48.8152695492, 2.31739229511   \n",
       "3                      1641.57       2014  48.9926867479, 2.22747200568   \n",
       "4                      2198.28       2016   48.714670201, 2.22882062662   \n",
       "\n",
       "                                               ville  \n",
       "0  Villiers-sur-Orge, Sainte-Geneviève-des-Bois, ...  \n",
       "1                                           Nanterre  \n",
       "2                                          Montrouge  \n",
       "3                  Franconville, Le Plessis-Bouchard  \n",
       "4                                          Palaiseau  "
      ]
     },
     "execution_count": 23,
     "metadata": {},
     "output_type": "execute_result"
    }
   ],
   "source": [
    "# Lire le fichier CSV\n",
    "df_ileDeFrance_final = pd.read_csv('df_ileDeFrance_final.csv')\n",
    "df_ileDeFrance_final.reset_index(drop=True, inplace=True)\n",
    "df_ileDeFrance_final.head()"
   ]
  },
  {
   "cell_type": "code",
   "execution_count": 38,
   "id": "55c1ad4e-f0ae-4f53-ac09-913575788fcf",
   "metadata": {
    "tags": []
   },
   "outputs": [
    {
     "data": {
      "text/html": [
       "<div>\n",
       "<style scoped>\n",
       "    .dataframe tbody tr th:only-of-type {\n",
       "        vertical-align: middle;\n",
       "    }\n",
       "\n",
       "    .dataframe tbody tr th {\n",
       "        vertical-align: top;\n",
       "    }\n",
       "\n",
       "    .dataframe thead th {\n",
       "        text-align: right;\n",
       "    }\n",
       "</style>\n",
       "<table border=\"1\" class=\"dataframe\">\n",
       "  <thead>\n",
       "    <tr style=\"text-align: right;\">\n",
       "      <th></th>\n",
       "      <th>code_postal</th>\n",
       "      <th>tr002_type_batiment_id</th>\n",
       "      <th>annee_construction</th>\n",
       "      <th>surface_habitable</th>\n",
       "      <th>consommation_energie</th>\n",
       "      <th>nom_methode_dpe</th>\n",
       "      <th>tr001_modele_dpe_id</th>\n",
       "      <th>tr006_type_usage_id</th>\n",
       "      <th>description</th>\n",
       "      <th>tr004_type_energie_id</th>\n",
       "      <th>description.1</th>\n",
       "      <th>consommation_energie_finale</th>\n",
       "      <th>annee_DPE</th>\n",
       "      <th>coordonnees</th>\n",
       "      <th>ville</th>\n",
       "    </tr>\n",
       "  </thead>\n",
       "  <tbody>\n",
       "    <tr>\n",
       "      <th>0</th>\n",
       "      <td>38190</td>\n",
       "      <td>Appartement</td>\n",
       "      <td>2014.0</td>\n",
       "      <td>61.21</td>\n",
       "      <td>50.81</td>\n",
       "      <td>FACTURE - DPE</td>\n",
       "      <td>11</td>\n",
       "      <td>1</td>\n",
       "      <td>Chauffage</td>\n",
       "      <td>3</td>\n",
       "      <td>Gaz</td>\n",
       "      <td>12677.00</td>\n",
       "      <td>2014</td>\n",
       "      <td>45.2307367976, 5.94776788691</td>\n",
       "      <td>Sainte-Agnès, Brignoud, Le Champ-près-Froges, ...</td>\n",
       "    </tr>\n",
       "    <tr>\n",
       "      <th>1</th>\n",
       "      <td>33130</td>\n",
       "      <td>Appartement</td>\n",
       "      <td>2014.0</td>\n",
       "      <td>50.20</td>\n",
       "      <td>61.48</td>\n",
       "      <td>FACTURE - DPE</td>\n",
       "      <td>11</td>\n",
       "      <td>1</td>\n",
       "      <td>Chauffage</td>\n",
       "      <td>1</td>\n",
       "      <td>Bois, Biomasse</td>\n",
       "      <td>93529.80</td>\n",
       "      <td>2014</td>\n",
       "      <td>44.8016807866, -0.548228052443</td>\n",
       "      <td>Bègles</td>\n",
       "    </tr>\n",
       "    <tr>\n",
       "      <th>2</th>\n",
       "      <td>35460</td>\n",
       "      <td>Maison</td>\n",
       "      <td>2014.0</td>\n",
       "      <td>86.12</td>\n",
       "      <td>72.62</td>\n",
       "      <td>FACTURE - DPE</td>\n",
       "      <td>11</td>\n",
       "      <td>1</td>\n",
       "      <td>Chauffage</td>\n",
       "      <td>1</td>\n",
       "      <td>Bois, Biomasse</td>\n",
       "      <td>2936.00</td>\n",
       "      <td>2014</td>\n",
       "      <td>48.4182189564, -1.388463014</td>\n",
       "      <td>Saint-Ouen-la-Rouërie, Saint-Brice-en-Coglès, ...</td>\n",
       "    </tr>\n",
       "    <tr>\n",
       "      <th>3</th>\n",
       "      <td>83560</td>\n",
       "      <td>Maison</td>\n",
       "      <td>2014.0</td>\n",
       "      <td>87.90</td>\n",
       "      <td>116.50</td>\n",
       "      <td>3CL - DPE</td>\n",
       "      <td>1</td>\n",
       "      <td>1</td>\n",
       "      <td>Chauffage</td>\n",
       "      <td>1</td>\n",
       "      <td>Bois, Biomasse</td>\n",
       "      <td>1547.76</td>\n",
       "      <td>2015</td>\n",
       "      <td>43.6398039041, 5.84684395874</td>\n",
       "      <td>Vinon-sur-Verdon, Artigues, La Verdière, Ginas...</td>\n",
       "    </tr>\n",
       "    <tr>\n",
       "      <th>4</th>\n",
       "      <td>83260</td>\n",
       "      <td>Maison</td>\n",
       "      <td>2014.0</td>\n",
       "      <td>98.65</td>\n",
       "      <td>40.88</td>\n",
       "      <td>FACTURE - DPE</td>\n",
       "      <td>11</td>\n",
       "      <td>1</td>\n",
       "      <td>Chauffage</td>\n",
       "      <td>2</td>\n",
       "      <td>Electricité</td>\n",
       "      <td>909.00</td>\n",
       "      <td>2014</td>\n",
       "      <td>43.1635844264, 6.09277944177</td>\n",
       "      <td>La Crau</td>\n",
       "    </tr>\n",
       "  </tbody>\n",
       "</table>\n",
       "</div>"
      ],
      "text/plain": [
       "  code_postal tr002_type_batiment_id  annee_construction  surface_habitable  \\\n",
       "0       38190            Appartement              2014.0              61.21   \n",
       "1       33130            Appartement              2014.0              50.20   \n",
       "2       35460                 Maison              2014.0              86.12   \n",
       "3       83560                 Maison              2014.0              87.90   \n",
       "4       83260                 Maison              2014.0              98.65   \n",
       "\n",
       "   consommation_energie nom_methode_dpe  tr001_modele_dpe_id  \\\n",
       "0                 50.81   FACTURE - DPE                   11   \n",
       "1                 61.48   FACTURE - DPE                   11   \n",
       "2                 72.62   FACTURE - DPE                   11   \n",
       "3                116.50       3CL - DPE                    1   \n",
       "4                 40.88   FACTURE - DPE                   11   \n",
       "\n",
       "   tr006_type_usage_id description  tr004_type_energie_id   description.1  \\\n",
       "0                    1   Chauffage                      3             Gaz   \n",
       "1                    1   Chauffage                      1  Bois, Biomasse   \n",
       "2                    1   Chauffage                      1  Bois, Biomasse   \n",
       "3                    1   Chauffage                      1  Bois, Biomasse   \n",
       "4                    1   Chauffage                      2     Electricité   \n",
       "\n",
       "   consommation_energie_finale  annee_DPE                     coordonnees  \\\n",
       "0                     12677.00       2014    45.2307367976, 5.94776788691   \n",
       "1                     93529.80       2014  44.8016807866, -0.548228052443   \n",
       "2                      2936.00       2014     48.4182189564, -1.388463014   \n",
       "3                      1547.76       2015    43.6398039041, 5.84684395874   \n",
       "4                       909.00       2014    43.1635844264, 6.09277944177   \n",
       "\n",
       "                                               ville  \n",
       "0  Sainte-Agnès, Brignoud, Le Champ-près-Froges, ...  \n",
       "1                                             Bègles  \n",
       "2  Saint-Ouen-la-Rouërie, Saint-Brice-en-Coglès, ...  \n",
       "3  Vinon-sur-Verdon, Artigues, La Verdière, Ginas...  \n",
       "4                                            La Crau  "
      ]
     },
     "execution_count": 38,
     "metadata": {},
     "output_type": "execute_result"
    }
   ],
   "source": [
    "# Lire le fichier CSV\n",
    "df_HorsIleDeFrance_final = pd.read_csv('df_HorsIleDeFrance_final.csv')\n",
    "df_HorsIleDeFrance_final.reset_index(drop=True, inplace=True)\n",
    "df_HorsIleDeFrance_final.head()"
   ]
  },
  {
   "cell_type": "markdown",
   "id": "d13a2ea2-2d63-4b2d-9c5f-0df3ac89bf96",
   "metadata": {},
   "source": [
    "#  Partie Pretraitements"
   ]
  },
  {
   "cell_type": "code",
   "execution_count": 39,
   "id": "4f949402-62c2-4e87-9c7d-f1a826f1ed62",
   "metadata": {
    "tags": []
   },
   "outputs": [],
   "source": [
    "# Diviser la colonne 'coordonnees' en deux colonnes distinctes pour la latitude et la longitude pour le DataFrame hors_ile_de_france_df\n",
    "df_HorsIleDeFrance_final[['Latitude', 'Longitude']] = df_HorsIleDeFrance_final['coordonnees'].str.split(',', expand=True)\n",
    "\n",
    "# Convertir les valeurs de latitude et de longitude en nombres flottants\n",
    "df_HorsIleDeFrance_final['Latitude'] = df_HorsIleDeFrance_final['Latitude'].astype(float)\n",
    "df_HorsIleDeFrance_final['Longitude'] = df_HorsIleDeFrance_final['Longitude'].astype(float)\n",
    "\n",
    "# Supprimer la colonne 'coordonnees' d'origine\n",
    "df_HorsIleDeFrance_final.drop(columns=['coordonnees'], inplace=True)\n"
   ]
  },
  {
   "cell_type": "code",
   "execution_count": 33,
   "id": "74530ca0-7009-4e04-94c9-09657341519f",
   "metadata": {
    "tags": []
   },
   "outputs": [],
   "source": [
    "# Diviser la colonne 'coordonnees' en deux colonnes distinctes pour la latitude et la longitude pour le DataFrame ile_de_france_df\n",
    "df_ileDeFrance_final[['Latitude', 'Longitude']] = df_ileDeFrance_final['coordonnees'].str.split(',', expand=True)\n",
    "\n",
    "# Convertir les valeurs de latitude et de longitude en nombres flottants\n",
    "df_ileDeFrance_final['Latitude'] = df_ileDeFrance_final['Latitude'].astype(float)\n",
    "df_ileDeFrance_final['Longitude'] = df_ileDeFrance_final['Longitude'].astype(float)\n",
    "\n",
    "# Supprimer la colonne 'coordonnees' d'origine\n",
    "df_ileDeFrance_final.drop(columns=['coordonnees'], inplace=True)\n",
    "\n"
   ]
  },
  {
   "cell_type": "code",
   "execution_count": 45,
   "id": "e66da4e1-3c21-4193-9f86-d3eb9744f82a",
   "metadata": {
    "tags": []
   },
   "outputs": [
    {
     "name": "stdout",
     "output_type": "stream",
     "text": [
      "Colonnes avec des valeurs manquantes pour Île-de-France :\n",
      "Series([], dtype: int64)\n",
      "\n",
      "Colonnes avec des valeurs manquantes pour le reste de la France :\n",
      "Series([], dtype: int64)\n"
     ]
    }
   ],
   "source": [
    "# Vérifier les valeurs manquantes dans chaque colonne pour les deux DataFrames\n",
    "missing_values_ile_de_france = df_ileDeFrance_final.isnull().sum()\n",
    "missing_values_hors_ile_de_france = df_HorsIleDeFrance_final.isnull().sum()\n",
    "\n",
    "# Afficher les colonnes avec des valeurs manquantes pour chaque DataFrame\n",
    "print(\"Colonnes avec des valeurs manquantes pour Île-de-France :\")\n",
    "print(missing_values_ile_de_france[missing_values_ile_de_france > 0])\n",
    "\n",
    "print(\"\\nColonnes avec des valeurs manquantes pour le reste de la France :\")\n",
    "print(missing_values_hors_ile_de_france[missing_values_hors_ile_de_france > 0])\n"
   ]
  },
  {
   "cell_type": "code",
   "execution_count": 44,
   "id": "d7f769fc-9b40-4d4d-9066-1ce77e4388ef",
   "metadata": {
    "tags": []
   },
   "outputs": [],
   "source": [
    "# Remplacer les valeurs manquantes dans le DataFrame de l'Île-de-France\n",
    "df_ileDeFrance_final['surface_habitable'].fillna(-1, inplace=True)\n",
    "\n",
    "# Remplacer les valeurs manquantes dans le DataFrame pour le reste de la France\n",
    "df_HorsIleDeFrance_final['code_postal'].fillna('Inconnu', inplace=True)\n",
    "df_HorsIleDeFrance_final['surface_habitable'].fillna(-1, inplace=True)\n",
    "df_HorsIleDeFrance_final['ville'].fillna('Inconnu', inplace=True)\n",
    "df_HorsIleDeFrance_final['Latitude'].fillna('NAN', inplace=True)  # Utiliser NaN pour les coordonnées\n",
    "df_HorsIleDeFrance_final['Longitude'].fillna('NAN', inplace=True) # Utiliser NaN pour les coordonnées\n"
   ]
  },
  {
   "cell_type": "code",
   "execution_count": 51,
   "id": "374facdd-e956-45e6-ba00-c31bdff5b1b6",
   "metadata": {},
   "outputs": [],
   "source": [
    "# Appliquer l'encodage one-hot sur la colonne 'tr002_type_batiment_id' pour Île-de-France\n",
    "df_ileDeFrance_final = pd.get_dummies(df_ileDeFrance_final, columns=['tr002_type_batiment_id'], prefix='type_batiment')\n",
    "\n",
    "# Appliquer l'encodage one-hot sur la colonne 'tr002_type_batiment_id' pour le reste de la France\n",
    "df_HorsIleDeFrance_final = pd.get_dummies(df_HorsIleDeFrance_final, columns=['tr002_type_batiment_id'], prefix='type_batiment')\n"
   ]
  },
  {
   "cell_type": "code",
   "execution_count": 53,
   "id": "fadc650f-619f-4d3d-b7d0-c254b86cecf2",
   "metadata": {
    "tags": []
   },
   "outputs": [
    {
     "data": {
      "text/plain": [
       "Index(['code_postal', 'annee_construction', 'surface_habitable',\n",
       "       'consommation_energie', 'nom_methode_dpe', 'tr001_modele_dpe_id',\n",
       "       'tr006_type_usage_id', 'description', 'tr004_type_energie_id',\n",
       "       'description.1', 'consommation_energie_finale', 'annee_DPE', 'ville',\n",
       "       'Latitude', 'Longitude', 'type_batiment_Appartement',\n",
       "       'type_batiment_Maison'],\n",
       "      dtype='object')"
      ]
     },
     "execution_count": 53,
     "metadata": {},
     "output_type": "execute_result"
    }
   ],
   "source": [
    "df_ileDeFrance_final.columns"
   ]
  },
  {
   "cell_type": "code",
   "execution_count": 54,
   "id": "b963a9d7-a449-4620-b6a3-fa86aa3ecf41",
   "metadata": {
    "tags": []
   },
   "outputs": [
    {
     "data": {
      "text/plain": [
       "Index(['code_postal', 'annee_construction', 'surface_habitable',\n",
       "       'consommation_energie', 'nom_methode_dpe', 'tr001_modele_dpe_id',\n",
       "       'tr006_type_usage_id', 'description', 'tr004_type_energie_id',\n",
       "       'description.1', 'consommation_energie_finale', 'annee_DPE', 'ville',\n",
       "       'Latitude', 'Longitude', 'type_batiment_Appartement',\n",
       "       'type_batiment_Maison'],\n",
       "      dtype='object')"
      ]
     },
     "execution_count": 54,
     "metadata": {},
     "output_type": "execute_result"
    }
   ],
   "source": [
    "df_HorsIleDeFrance_final.columns"
   ]
  },
  {
   "cell_type": "code",
   "execution_count": 55,
   "id": "5b5b63b9-97a5-4d99-a175-8f153bd96078",
   "metadata": {
    "tags": []
   },
   "outputs": [
    {
     "data": {
      "text/html": [
       "<div>\n",
       "<style scoped>\n",
       "    .dataframe tbody tr th:only-of-type {\n",
       "        vertical-align: middle;\n",
       "    }\n",
       "\n",
       "    .dataframe tbody tr th {\n",
       "        vertical-align: top;\n",
       "    }\n",
       "\n",
       "    .dataframe thead th {\n",
       "        text-align: right;\n",
       "    }\n",
       "</style>\n",
       "<table border=\"1\" class=\"dataframe\">\n",
       "  <thead>\n",
       "    <tr style=\"text-align: right;\">\n",
       "      <th></th>\n",
       "      <th>code_postal</th>\n",
       "      <th>annee_construction</th>\n",
       "      <th>surface_habitable</th>\n",
       "      <th>consommation_energie</th>\n",
       "      <th>nom_methode_dpe</th>\n",
       "      <th>tr001_modele_dpe_id</th>\n",
       "      <th>tr006_type_usage_id</th>\n",
       "      <th>description</th>\n",
       "      <th>tr004_type_energie_id</th>\n",
       "      <th>description.1</th>\n",
       "      <th>consommation_energie_finale</th>\n",
       "      <th>annee_DPE</th>\n",
       "      <th>ville</th>\n",
       "      <th>Latitude</th>\n",
       "      <th>Longitude</th>\n",
       "      <th>type_batiment_Appartement</th>\n",
       "      <th>type_batiment_Maison</th>\n",
       "    </tr>\n",
       "  </thead>\n",
       "  <tbody>\n",
       "    <tr>\n",
       "      <th>0</th>\n",
       "      <td>38190</td>\n",
       "      <td>2014.0</td>\n",
       "      <td>61.21</td>\n",
       "      <td>50.81</td>\n",
       "      <td>FACTURE - DPE</td>\n",
       "      <td>11</td>\n",
       "      <td>1</td>\n",
       "      <td>Chauffage</td>\n",
       "      <td>3</td>\n",
       "      <td>Gaz</td>\n",
       "      <td>12677.00</td>\n",
       "      <td>2014</td>\n",
       "      <td>Sainte-Agnès, Brignoud, Le Champ-près-Froges, ...</td>\n",
       "      <td>45.230737</td>\n",
       "      <td>5.947768</td>\n",
       "      <td>True</td>\n",
       "      <td>False</td>\n",
       "    </tr>\n",
       "    <tr>\n",
       "      <th>1</th>\n",
       "      <td>33130</td>\n",
       "      <td>2014.0</td>\n",
       "      <td>50.20</td>\n",
       "      <td>61.48</td>\n",
       "      <td>FACTURE - DPE</td>\n",
       "      <td>11</td>\n",
       "      <td>1</td>\n",
       "      <td>Chauffage</td>\n",
       "      <td>1</td>\n",
       "      <td>Bois, Biomasse</td>\n",
       "      <td>93529.80</td>\n",
       "      <td>2014</td>\n",
       "      <td>Bègles</td>\n",
       "      <td>44.801681</td>\n",
       "      <td>-0.548228</td>\n",
       "      <td>True</td>\n",
       "      <td>False</td>\n",
       "    </tr>\n",
       "    <tr>\n",
       "      <th>2</th>\n",
       "      <td>35460</td>\n",
       "      <td>2014.0</td>\n",
       "      <td>86.12</td>\n",
       "      <td>72.62</td>\n",
       "      <td>FACTURE - DPE</td>\n",
       "      <td>11</td>\n",
       "      <td>1</td>\n",
       "      <td>Chauffage</td>\n",
       "      <td>1</td>\n",
       "      <td>Bois, Biomasse</td>\n",
       "      <td>2936.00</td>\n",
       "      <td>2014</td>\n",
       "      <td>Saint-Ouen-la-Rouërie, Saint-Brice-en-Coglès, ...</td>\n",
       "      <td>48.418219</td>\n",
       "      <td>-1.388463</td>\n",
       "      <td>False</td>\n",
       "      <td>True</td>\n",
       "    </tr>\n",
       "    <tr>\n",
       "      <th>3</th>\n",
       "      <td>83560</td>\n",
       "      <td>2014.0</td>\n",
       "      <td>87.90</td>\n",
       "      <td>116.50</td>\n",
       "      <td>3CL - DPE</td>\n",
       "      <td>1</td>\n",
       "      <td>1</td>\n",
       "      <td>Chauffage</td>\n",
       "      <td>1</td>\n",
       "      <td>Bois, Biomasse</td>\n",
       "      <td>1547.76</td>\n",
       "      <td>2015</td>\n",
       "      <td>Vinon-sur-Verdon, Artigues, La Verdière, Ginas...</td>\n",
       "      <td>43.639804</td>\n",
       "      <td>5.846844</td>\n",
       "      <td>False</td>\n",
       "      <td>True</td>\n",
       "    </tr>\n",
       "    <tr>\n",
       "      <th>4</th>\n",
       "      <td>83260</td>\n",
       "      <td>2014.0</td>\n",
       "      <td>98.65</td>\n",
       "      <td>40.88</td>\n",
       "      <td>FACTURE - DPE</td>\n",
       "      <td>11</td>\n",
       "      <td>1</td>\n",
       "      <td>Chauffage</td>\n",
       "      <td>2</td>\n",
       "      <td>Electricité</td>\n",
       "      <td>909.00</td>\n",
       "      <td>2014</td>\n",
       "      <td>La Crau</td>\n",
       "      <td>43.163584</td>\n",
       "      <td>6.092779</td>\n",
       "      <td>False</td>\n",
       "      <td>True</td>\n",
       "    </tr>\n",
       "  </tbody>\n",
       "</table>\n",
       "</div>"
      ],
      "text/plain": [
       "  code_postal  annee_construction  surface_habitable  consommation_energie  \\\n",
       "0       38190              2014.0              61.21                 50.81   \n",
       "1       33130              2014.0              50.20                 61.48   \n",
       "2       35460              2014.0              86.12                 72.62   \n",
       "3       83560              2014.0              87.90                116.50   \n",
       "4       83260              2014.0              98.65                 40.88   \n",
       "\n",
       "  nom_methode_dpe  tr001_modele_dpe_id  tr006_type_usage_id description  \\\n",
       "0   FACTURE - DPE                   11                    1   Chauffage   \n",
       "1   FACTURE - DPE                   11                    1   Chauffage   \n",
       "2   FACTURE - DPE                   11                    1   Chauffage   \n",
       "3       3CL - DPE                    1                    1   Chauffage   \n",
       "4   FACTURE - DPE                   11                    1   Chauffage   \n",
       "\n",
       "   tr004_type_energie_id   description.1  consommation_energie_finale  \\\n",
       "0                      3             Gaz                     12677.00   \n",
       "1                      1  Bois, Biomasse                     93529.80   \n",
       "2                      1  Bois, Biomasse                      2936.00   \n",
       "3                      1  Bois, Biomasse                      1547.76   \n",
       "4                      2     Electricité                       909.00   \n",
       "\n",
       "   annee_DPE                                              ville   Latitude  \\\n",
       "0       2014  Sainte-Agnès, Brignoud, Le Champ-près-Froges, ...  45.230737   \n",
       "1       2014                                             Bègles  44.801681   \n",
       "2       2014  Saint-Ouen-la-Rouërie, Saint-Brice-en-Coglès, ...  48.418219   \n",
       "3       2015  Vinon-sur-Verdon, Artigues, La Verdière, Ginas...  43.639804   \n",
       "4       2014                                            La Crau  43.163584   \n",
       "\n",
       "  Longitude  type_batiment_Appartement  type_batiment_Maison  \n",
       "0  5.947768                       True                 False  \n",
       "1 -0.548228                       True                 False  \n",
       "2 -1.388463                      False                  True  \n",
       "3  5.846844                      False                  True  \n",
       "4  6.092779                      False                  True  "
      ]
     },
     "execution_count": 55,
     "metadata": {},
     "output_type": "execute_result"
    }
   ],
   "source": [
    "df_HorsIleDeFrance_final.head()"
   ]
  },
  {
   "cell_type": "code",
   "execution_count": 56,
   "id": "5dd5145b-05b8-4525-b9f2-38f8678a0124",
   "metadata": {
    "tags": []
   },
   "outputs": [
    {
     "data": {
      "text/plain": [
       "code_postal                     object\n",
       "annee_construction             float64\n",
       "surface_habitable              float64\n",
       "consommation_energie           float64\n",
       "nom_methode_dpe                 object\n",
       "tr001_modele_dpe_id              int64\n",
       "tr006_type_usage_id              int64\n",
       "description                     object\n",
       "tr004_type_energie_id            int64\n",
       "description.1                   object\n",
       "consommation_energie_finale    float64\n",
       "annee_DPE                        int64\n",
       "ville                           object\n",
       "Latitude                        object\n",
       "Longitude                       object\n",
       "type_batiment_Appartement         bool\n",
       "type_batiment_Maison              bool\n",
       "dtype: object"
      ]
     },
     "execution_count": 56,
     "metadata": {},
     "output_type": "execute_result"
    }
   ],
   "source": [
    "df_HorsIleDeFrance_final.dtypes"
   ]
  },
  {
   "cell_type": "code",
   "execution_count": 57,
   "id": "89c550ba-87ba-47cf-ab92-cd5242b5d897",
   "metadata": {
    "tags": []
   },
   "outputs": [
    {
     "data": {
      "text/plain": [
       "code_postal                      int64\n",
       "annee_construction             float64\n",
       "surface_habitable              float64\n",
       "consommation_energie           float64\n",
       "nom_methode_dpe                 object\n",
       "tr001_modele_dpe_id              int64\n",
       "tr006_type_usage_id              int64\n",
       "description                     object\n",
       "tr004_type_energie_id            int64\n",
       "description.1                   object\n",
       "consommation_energie_finale    float64\n",
       "annee_DPE                        int64\n",
       "ville                           object\n",
       "Latitude                       float64\n",
       "Longitude                      float64\n",
       "type_batiment_Appartement         bool\n",
       "type_batiment_Maison              bool\n",
       "dtype: object"
      ]
     },
     "execution_count": 57,
     "metadata": {},
     "output_type": "execute_result"
    }
   ],
   "source": [
    "df_ileDeFrance_final.dtypes"
   ]
  },
  {
   "cell_type": "code",
   "execution_count": 60,
   "id": "ed741576-bbee-40e3-9cf3-bd8af040177e",
   "metadata": {
    "tags": []
   },
   "outputs": [
    {
     "name": "stdout",
     "output_type": "stream",
     "text": [
      "Colonnes contenant des valeurs NaN : []\n"
     ]
    }
   ],
   "source": [
    "# Vérifier les colonnes contenant des valeurs NaN dans le DataFrame df_HorsIleDeFrance\n",
    "nan_columns = df_HorsIleDeFrance.columns[df_HorsIleDeFrance.isnull().any()].tolist()\n",
    "print(\"Colonnes contenant des valeurs NaN :\", nan_columns)\n"
   ]
  },
  {
   "cell_type": "code",
   "execution_count": 59,
   "id": "8a8b635e-2f3c-4097-9241-0cbf871b4575",
   "metadata": {
    "tags": []
   },
   "outputs": [],
   "source": [
    "df_HorsIleDeFrance.dropna(inplace=True)\n"
   ]
  },
  {
   "cell_type": "code",
   "execution_count": 62,
   "id": "e5f6fca1-43aa-41bd-b6fb-09e22bdd75e9",
   "metadata": {
    "tags": []
   },
   "outputs": [
    {
     "data": {
      "text/plain": [
       "(247278, 15)"
      ]
     },
     "execution_count": 62,
     "metadata": {},
     "output_type": "execute_result"
    }
   ],
   "source": [
    "df_HorsIleDeFrance.shape"
   ]
  },
  {
   "cell_type": "code",
   "execution_count": null,
   "id": "c3f5d4ad-7b76-4df5-bd2c-4755272aa546",
   "metadata": {},
   "outputs": [],
   "source": []
  }
 ],
 "metadata": {
  "kernelspec": {
   "display_name": "Python 3 (ipykernel)",
   "language": "python",
   "name": "python3"
  },
  "language_info": {
   "codemirror_mode": {
    "name": "ipython",
    "version": 3
   },
   "file_extension": ".py",
   "mimetype": "text/x-python",
   "name": "python",
   "nbconvert_exporter": "python",
   "pygments_lexer": "ipython3",
   "version": "3.11.5"
  }
 },
 "nbformat": 4,
 "nbformat_minor": 5
}
